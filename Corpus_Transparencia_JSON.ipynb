{
  "nbformat": 4,
  "nbformat_minor": 0,
  "metadata": {
    "colab": {
      "name": "Corpus_Transparencia_JSON.ipynb",
      "provenance": []
    },
    "kernelspec": {
      "display_name": "Python 3",
      "name": "python3"
    },
    "language_info": {
      "name": "python"
    }
  },
  "cells": [
    {
      "cell_type": "code",
      "metadata": {
        "colab": {
          "base_uri": "https://localhost:8080/"
        },
        "id": "sAefsZiYeLZw",
        "outputId": "ad2dc100-0510-4331-a6fa-2fa2c609c195"
      },
      "source": [
        "pip install selenium"
      ],
      "execution_count": null,
      "outputs": [
        {
          "output_type": "stream",
          "name": "stdout",
          "text": [
            "Collecting selenium\n",
            "  Downloading selenium-3.141.0-py2.py3-none-any.whl (904 kB)\n",
            "\u001b[?25l\r\u001b[K     |▍                               | 10 kB 25.0 MB/s eta 0:00:01\r\u001b[K     |▊                               | 20 kB 33.8 MB/s eta 0:00:01\r\u001b[K     |█                               | 30 kB 34.8 MB/s eta 0:00:01\r\u001b[K     |█▌                              | 40 kB 21.3 MB/s eta 0:00:01\r\u001b[K     |█▉                              | 51 kB 16.7 MB/s eta 0:00:01\r\u001b[K     |██▏                             | 61 kB 12.1 MB/s eta 0:00:01\r\u001b[K     |██▌                             | 71 kB 13.3 MB/s eta 0:00:01\r\u001b[K     |███                             | 81 kB 14.9 MB/s eta 0:00:01\r\u001b[K     |███▎                            | 92 kB 16.3 MB/s eta 0:00:01\r\u001b[K     |███▋                            | 102 kB 14.7 MB/s eta 0:00:01\r\u001b[K     |████                            | 112 kB 14.7 MB/s eta 0:00:01\r\u001b[K     |████▍                           | 122 kB 14.7 MB/s eta 0:00:01\r\u001b[K     |████▊                           | 133 kB 14.7 MB/s eta 0:00:01\r\u001b[K     |█████                           | 143 kB 14.7 MB/s eta 0:00:01\r\u001b[K     |█████▍                          | 153 kB 14.7 MB/s eta 0:00:01\r\u001b[K     |█████▉                          | 163 kB 14.7 MB/s eta 0:00:01\r\u001b[K     |██████▏                         | 174 kB 14.7 MB/s eta 0:00:01\r\u001b[K     |██████▌                         | 184 kB 14.7 MB/s eta 0:00:01\r\u001b[K     |██████▉                         | 194 kB 14.7 MB/s eta 0:00:01\r\u001b[K     |███████▎                        | 204 kB 14.7 MB/s eta 0:00:01\r\u001b[K     |███████▋                        | 215 kB 14.7 MB/s eta 0:00:01\r\u001b[K     |████████                        | 225 kB 14.7 MB/s eta 0:00:01\r\u001b[K     |████████▎                       | 235 kB 14.7 MB/s eta 0:00:01\r\u001b[K     |████████▊                       | 245 kB 14.7 MB/s eta 0:00:01\r\u001b[K     |█████████                       | 256 kB 14.7 MB/s eta 0:00:01\r\u001b[K     |█████████▍                      | 266 kB 14.7 MB/s eta 0:00:01\r\u001b[K     |█████████▉                      | 276 kB 14.7 MB/s eta 0:00:01\r\u001b[K     |██████████▏                     | 286 kB 14.7 MB/s eta 0:00:01\r\u001b[K     |██████████▌                     | 296 kB 14.7 MB/s eta 0:00:01\r\u001b[K     |██████████▉                     | 307 kB 14.7 MB/s eta 0:00:01\r\u001b[K     |███████████▎                    | 317 kB 14.7 MB/s eta 0:00:01\r\u001b[K     |███████████▋                    | 327 kB 14.7 MB/s eta 0:00:01\r\u001b[K     |████████████                    | 337 kB 14.7 MB/s eta 0:00:01\r\u001b[K     |████████████▎                   | 348 kB 14.7 MB/s eta 0:00:01\r\u001b[K     |████████████▊                   | 358 kB 14.7 MB/s eta 0:00:01\r\u001b[K     |█████████████                   | 368 kB 14.7 MB/s eta 0:00:01\r\u001b[K     |█████████████▍                  | 378 kB 14.7 MB/s eta 0:00:01\r\u001b[K     |█████████████▊                  | 389 kB 14.7 MB/s eta 0:00:01\r\u001b[K     |██████████████▏                 | 399 kB 14.7 MB/s eta 0:00:01\r\u001b[K     |██████████████▌                 | 409 kB 14.7 MB/s eta 0:00:01\r\u001b[K     |██████████████▉                 | 419 kB 14.7 MB/s eta 0:00:01\r\u001b[K     |███████████████▏                | 430 kB 14.7 MB/s eta 0:00:01\r\u001b[K     |███████████████▋                | 440 kB 14.7 MB/s eta 0:00:01\r\u001b[K     |████████████████                | 450 kB 14.7 MB/s eta 0:00:01\r\u001b[K     |████████████████▎               | 460 kB 14.7 MB/s eta 0:00:01\r\u001b[K     |████████████████▋               | 471 kB 14.7 MB/s eta 0:00:01\r\u001b[K     |█████████████████               | 481 kB 14.7 MB/s eta 0:00:01\r\u001b[K     |█████████████████▍              | 491 kB 14.7 MB/s eta 0:00:01\r\u001b[K     |█████████████████▊              | 501 kB 14.7 MB/s eta 0:00:01\r\u001b[K     |██████████████████▏             | 512 kB 14.7 MB/s eta 0:00:01\r\u001b[K     |██████████████████▌             | 522 kB 14.7 MB/s eta 0:00:01\r\u001b[K     |██████████████████▉             | 532 kB 14.7 MB/s eta 0:00:01\r\u001b[K     |███████████████████▏            | 542 kB 14.7 MB/s eta 0:00:01\r\u001b[K     |███████████████████▋            | 552 kB 14.7 MB/s eta 0:00:01\r\u001b[K     |████████████████████            | 563 kB 14.7 MB/s eta 0:00:01\r\u001b[K     |████████████████████▎           | 573 kB 14.7 MB/s eta 0:00:01\r\u001b[K     |████████████████████▋           | 583 kB 14.7 MB/s eta 0:00:01\r\u001b[K     |█████████████████████           | 593 kB 14.7 MB/s eta 0:00:01\r\u001b[K     |█████████████████████▍          | 604 kB 14.7 MB/s eta 0:00:01\r\u001b[K     |█████████████████████▊          | 614 kB 14.7 MB/s eta 0:00:01\r\u001b[K     |██████████████████████          | 624 kB 14.7 MB/s eta 0:00:01\r\u001b[K     |██████████████████████▌         | 634 kB 14.7 MB/s eta 0:00:01\r\u001b[K     |██████████████████████▉         | 645 kB 14.7 MB/s eta 0:00:01\r\u001b[K     |███████████████████████▏        | 655 kB 14.7 MB/s eta 0:00:01\r\u001b[K     |███████████████████████▌        | 665 kB 14.7 MB/s eta 0:00:01\r\u001b[K     |████████████████████████        | 675 kB 14.7 MB/s eta 0:00:01\r\u001b[K     |████████████████████████▎       | 686 kB 14.7 MB/s eta 0:00:01\r\u001b[K     |████████████████████████▋       | 696 kB 14.7 MB/s eta 0:00:01\r\u001b[K     |█████████████████████████       | 706 kB 14.7 MB/s eta 0:00:01\r\u001b[K     |█████████████████████████▍      | 716 kB 14.7 MB/s eta 0:00:01\r\u001b[K     |█████████████████████████▊      | 727 kB 14.7 MB/s eta 0:00:01\r\u001b[K     |██████████████████████████      | 737 kB 14.7 MB/s eta 0:00:01\r\u001b[K     |██████████████████████████▍     | 747 kB 14.7 MB/s eta 0:00:01\r\u001b[K     |██████████████████████████▉     | 757 kB 14.7 MB/s eta 0:00:01\r\u001b[K     |███████████████████████████▏    | 768 kB 14.7 MB/s eta 0:00:01\r\u001b[K     |███████████████████████████▌    | 778 kB 14.7 MB/s eta 0:00:01\r\u001b[K     |████████████████████████████    | 788 kB 14.7 MB/s eta 0:00:01\r\u001b[K     |████████████████████████████▎   | 798 kB 14.7 MB/s eta 0:00:01\r\u001b[K     |████████████████████████████▋   | 808 kB 14.7 MB/s eta 0:00:01\r\u001b[K     |█████████████████████████████   | 819 kB 14.7 MB/s eta 0:00:01\r\u001b[K     |█████████████████████████████▍  | 829 kB 14.7 MB/s eta 0:00:01\r\u001b[K     |█████████████████████████████▊  | 839 kB 14.7 MB/s eta 0:00:01\r\u001b[K     |██████████████████████████████  | 849 kB 14.7 MB/s eta 0:00:01\r\u001b[K     |██████████████████████████████▍ | 860 kB 14.7 MB/s eta 0:00:01\r\u001b[K     |██████████████████████████████▉ | 870 kB 14.7 MB/s eta 0:00:01\r\u001b[K     |███████████████████████████████▏| 880 kB 14.7 MB/s eta 0:00:01\r\u001b[K     |███████████████████████████████▌| 890 kB 14.7 MB/s eta 0:00:01\r\u001b[K     |███████████████████████████████▉| 901 kB 14.7 MB/s eta 0:00:01\r\u001b[K     |████████████████████████████████| 904 kB 14.7 MB/s \n",
            "\u001b[?25hRequirement already satisfied: urllib3 in /usr/local/lib/python3.7/dist-packages (from selenium) (1.24.3)\n",
            "Installing collected packages: selenium\n",
            "Successfully installed selenium-3.141.0\n"
          ]
        }
      ]
    },
    {
      "cell_type": "code",
      "metadata": {
        "colab": {
          "base_uri": "https://localhost:8080/"
        },
        "id": "kZVJjrf9m5jf",
        "outputId": "5b96cadf-c6c9-4be7-bff1-bd45bac40ded"
      },
      "source": [
        "!apt-get update # to update ubuntu to correctly run apt install"
      ],
      "execution_count": null,
      "outputs": [
        {
          "output_type": "stream",
          "name": "stdout",
          "text": [
            "\r0% [Working]\r            \rGet:1 http://ppa.launchpad.net/c2d4u.team/c2d4u4.0+/ubuntu bionic InRelease [15.9 kB]\n",
            "\r0% [Connecting to archive.ubuntu.com] [Connecting to security.ubuntu.com (91.18\r0% [Connecting to archive.ubuntu.com] [Connecting to security.ubuntu.com (91.18\r0% [1 InRelease gpgv 15.9 kB] [Connecting to archive.ubuntu.com] [Connecting to\r                                                                               \rHit:2 http://ppa.launchpad.net/cran/libgit2/ubuntu bionic InRelease\n",
            "\r0% [1 InRelease gpgv 15.9 kB] [Connecting to archive.ubuntu.com] [Connecting to\r                                                                               \rGet:3 https://cloud.r-project.org/bin/linux/ubuntu bionic-cran40/ InRelease [3,626 B]\n",
            "\r0% [1 InRelease gpgv 15.9 kB] [Connecting to archive.ubuntu.com] [Connecting to\r0% [1 InRelease gpgv 15.9 kB] [Connecting to archive.ubuntu.com] [Connecting to\r                                                                               \rGet:4 http://ppa.launchpad.net/deadsnakes/ppa/ubuntu bionic InRelease [15.9 kB]\n",
            "\r0% [1 InRelease gpgv 15.9 kB] [Connecting to archive.ubuntu.com] [Connecting to\r0% [1 InRelease gpgv 15.9 kB] [Connecting to archive.ubuntu.com (91.189.88.142)\r                                                                               \rHit:5 http://archive.ubuntu.com/ubuntu bionic InRelease\n",
            "Hit:6 http://ppa.launchpad.net/graphics-drivers/ppa/ubuntu bionic InRelease\n",
            "Get:7 http://archive.ubuntu.com/ubuntu bionic-updates InRelease [88.7 kB]\n",
            "Get:8 http://archive.ubuntu.com/ubuntu bionic-backports InRelease [74.6 kB]\n",
            "Get:9 http://security.ubuntu.com/ubuntu bionic-security InRelease [88.7 kB]\n",
            "Ign:10 https://developer.download.nvidia.com/compute/cuda/repos/ubuntu1804/x86_64  InRelease\n",
            "Get:11 http://ppa.launchpad.net/c2d4u.team/c2d4u4.0+/ubuntu bionic/main Sources [1,799 kB]\n",
            "Ign:12 https://developer.download.nvidia.com/compute/machine-learning/repos/ubuntu1804/x86_64  InRelease\n",
            "Get:13 https://developer.download.nvidia.com/compute/cuda/repos/ubuntu1804/x86_64  Release [696 B]\n",
            "Hit:14 https://developer.download.nvidia.com/compute/machine-learning/repos/ubuntu1804/x86_64  Release\n",
            "Get:15 https://developer.download.nvidia.com/compute/cuda/repos/ubuntu1804/x86_64  Release.gpg [836 B]\n",
            "Get:16 http://ppa.launchpad.net/c2d4u.team/c2d4u4.0+/ubuntu bionic/main amd64 Packages [921 kB]\n",
            "Get:17 http://ppa.launchpad.net/deadsnakes/ppa/ubuntu bionic/main amd64 Packages [40.8 kB]\n",
            "Get:18 http://archive.ubuntu.com/ubuntu bionic-updates/universe amd64 Packages [2,202 kB]\n",
            "Get:19 http://archive.ubuntu.com/ubuntu bionic-updates/restricted amd64 Packages [600 kB]\n",
            "Get:20 http://archive.ubuntu.com/ubuntu bionic-updates/main amd64 Packages [2,761 kB]\n",
            "Get:22 https://developer.download.nvidia.com/compute/cuda/repos/ubuntu1804/x86_64  Packages [718 kB]\n",
            "Get:23 http://security.ubuntu.com/ubuntu bionic-security/main amd64 Packages [2,324 kB]\n",
            "Get:24 http://security.ubuntu.com/ubuntu bionic-security/restricted amd64 Packages [567 kB]\n",
            "Get:25 http://security.ubuntu.com/ubuntu bionic-security/universe amd64 Packages [1,428 kB]\n",
            "Fetched 13.6 MB in 3s (4,797 kB/s)\n",
            "Reading package lists... Done\n"
          ]
        }
      ]
    },
    {
      "cell_type": "code",
      "metadata": {
        "colab": {
          "base_uri": "https://localhost:8080/"
        },
        "id": "l8QQdBMVo-Tm",
        "outputId": "1030d140-e6dd-4e4c-9b99-8845d8c30881"
      },
      "source": [
        "!apt install chromium-chromedriver"
      ],
      "execution_count": null,
      "outputs": [
        {
          "output_type": "stream",
          "name": "stdout",
          "text": [
            "Reading package lists... Done\n",
            "Building dependency tree       \n",
            "Reading state information... Done\n",
            "The following additional packages will be installed:\n",
            "  chromium-browser chromium-browser-l10n chromium-codecs-ffmpeg-extra\n",
            "Suggested packages:\n",
            "  webaccounts-chromium-extension unity-chromium-extension\n",
            "The following NEW packages will be installed:\n",
            "  chromium-browser chromium-browser-l10n chromium-chromedriver\n",
            "  chromium-codecs-ffmpeg-extra\n",
            "0 upgraded, 4 newly installed, 0 to remove and 107 not upgraded.\n",
            "Need to get 91.8 MB of archives.\n",
            "After this operation, 315 MB of additional disk space will be used.\n",
            "Get:1 http://archive.ubuntu.com/ubuntu bionic-updates/universe amd64 chromium-codecs-ffmpeg-extra amd64 92.0.4515.159-0ubuntu0.18.04.1 [1,124 kB]\n",
            "Get:2 http://archive.ubuntu.com/ubuntu bionic-updates/universe amd64 chromium-browser amd64 92.0.4515.159-0ubuntu0.18.04.1 [81.7 MB]\n",
            "Get:3 http://archive.ubuntu.com/ubuntu bionic-updates/universe amd64 chromium-browser-l10n all 92.0.4515.159-0ubuntu0.18.04.1 [4,026 kB]\n",
            "Get:4 http://archive.ubuntu.com/ubuntu bionic-updates/universe amd64 chromium-chromedriver amd64 92.0.4515.159-0ubuntu0.18.04.1 [4,902 kB]\n",
            "Fetched 91.8 MB in 1s (66.0 MB/s)\n",
            "Selecting previously unselected package chromium-codecs-ffmpeg-extra.\n",
            "(Reading database ... 148492 files and directories currently installed.)\n",
            "Preparing to unpack .../chromium-codecs-ffmpeg-extra_92.0.4515.159-0ubuntu0.18.04.1_amd64.deb ...\n",
            "Unpacking chromium-codecs-ffmpeg-extra (92.0.4515.159-0ubuntu0.18.04.1) ...\n",
            "Selecting previously unselected package chromium-browser.\n",
            "Preparing to unpack .../chromium-browser_92.0.4515.159-0ubuntu0.18.04.1_amd64.deb ...\n",
            "Unpacking chromium-browser (92.0.4515.159-0ubuntu0.18.04.1) ...\n",
            "Selecting previously unselected package chromium-browser-l10n.\n",
            "Preparing to unpack .../chromium-browser-l10n_92.0.4515.159-0ubuntu0.18.04.1_all.deb ...\n",
            "Unpacking chromium-browser-l10n (92.0.4515.159-0ubuntu0.18.04.1) ...\n",
            "Selecting previously unselected package chromium-chromedriver.\n",
            "Preparing to unpack .../chromium-chromedriver_92.0.4515.159-0ubuntu0.18.04.1_amd64.deb ...\n",
            "Unpacking chromium-chromedriver (92.0.4515.159-0ubuntu0.18.04.1) ...\n",
            "Setting up chromium-codecs-ffmpeg-extra (92.0.4515.159-0ubuntu0.18.04.1) ...\n",
            "Setting up chromium-browser (92.0.4515.159-0ubuntu0.18.04.1) ...\n",
            "update-alternatives: using /usr/bin/chromium-browser to provide /usr/bin/x-www-browser (x-www-browser) in auto mode\n",
            "update-alternatives: using /usr/bin/chromium-browser to provide /usr/bin/gnome-www-browser (gnome-www-browser) in auto mode\n",
            "Setting up chromium-chromedriver (92.0.4515.159-0ubuntu0.18.04.1) ...\n",
            "Setting up chromium-browser-l10n (92.0.4515.159-0ubuntu0.18.04.1) ...\n",
            "Processing triggers for man-db (2.8.3-2ubuntu0.1) ...\n",
            "Processing triggers for hicolor-icon-theme (0.17-2) ...\n",
            "Processing triggers for mime-support (3.60ubuntu1) ...\n",
            "Processing triggers for libc-bin (2.27-3ubuntu1.2) ...\n",
            "/sbin/ldconfig.real: /usr/local/lib/python3.7/dist-packages/ideep4py/lib/libmkldnn.so.0 is not a symbolic link\n",
            "\n"
          ]
        }
      ]
    },
    {
      "cell_type": "code",
      "metadata": {
        "colab": {
          "base_uri": "https://localhost:8080/"
        },
        "id": "Qi9TIavvpNDG",
        "outputId": "d4f67165-70f7-4fd4-c0bb-8e83de2dae66"
      },
      "source": [
        "!cp /usr/lib/chromium-browser/chromedriver /usr/bin"
      ],
      "execution_count": null,
      "outputs": [
        {
          "output_type": "stream",
          "name": "stdout",
          "text": [
            "cp: '/usr/lib/chromium-browser/chromedriver' and '/usr/bin/chromedriver' are the same file\n"
          ]
        }
      ]
    },
    {
      "cell_type": "code",
      "metadata": {
        "id": "ciMpUh1wpxPn"
      },
      "source": [
        "import sys"
      ],
      "execution_count": null,
      "outputs": []
    },
    {
      "cell_type": "code",
      "metadata": {
        "id": "-qb9sO_1p0Mm"
      },
      "source": [
        "sys.path.insert(0,'/usr/lib/chromium-browser/chromedriver')"
      ],
      "execution_count": null,
      "outputs": []
    },
    {
      "cell_type": "code",
      "metadata": {
        "id": "BKNOI-WHp38c"
      },
      "source": [
        "from selenium import webdriver"
      ],
      "execution_count": null,
      "outputs": []
    },
    {
      "cell_type": "code",
      "metadata": {
        "id": "xjja60W9p7q_"
      },
      "source": [
        "chrome_options = webdriver.ChromeOptions()\n",
        "chrome_options.add_argument('--headless')\n",
        "chrome_options.add_argument('--no-sandbox')\n",
        "chrome_options.add_argument('--disable-dev-shm-usage')"
      ],
      "execution_count": null,
      "outputs": []
    },
    {
      "cell_type": "code",
      "metadata": {
        "colab": {
          "base_uri": "https://localhost:8080/"
        },
        "id": "0-_VEaY6nYQu",
        "outputId": "564a99cf-b779-4306-a2b1-0916dd062970"
      },
      "source": [
        "pip install pandas"
      ],
      "execution_count": null,
      "outputs": [
        {
          "output_type": "stream",
          "name": "stdout",
          "text": [
            "Requirement already satisfied: pandas in /usr/local/lib/python3.7/dist-packages (1.1.5)\n",
            "Requirement already satisfied: pytz>=2017.2 in /usr/local/lib/python3.7/dist-packages (from pandas) (2018.9)\n",
            "Requirement already satisfied: python-dateutil>=2.7.3 in /usr/local/lib/python3.7/dist-packages (from pandas) (2.8.2)\n",
            "Requirement already satisfied: numpy>=1.15.4 in /usr/local/lib/python3.7/dist-packages (from pandas) (1.19.5)\n",
            "Requirement already satisfied: six>=1.5 in /usr/local/lib/python3.7/dist-packages (from python-dateutil>=2.7.3->pandas) (1.15.0)\n"
          ]
        }
      ]
    },
    {
      "cell_type": "code",
      "metadata": {
        "colab": {
          "base_uri": "https://localhost:8080/",
          "height": 459
        },
        "id": "x-b3n2NndYXp",
        "outputId": "3bc33697-105c-4f8d-c10a-2a6bf03df13a"
      },
      "source": [
        "import json\n",
        "from selenium import webdriver\n",
        "from bs4 import BeautifulSoup\n",
        "from bs4.element import Declaration\n",
        "from selenium import webdriver\n",
        "from selenium.common.exceptions import WebDriverException\n",
        "import pandas as pd\n",
        "from datetime import date\n",
        "import time\n",
        "import re\n",
        "# EJECUTABLE QUE AYUDA A MANEJAR CHROME\n",
        "driver = webdriver.Chrome('chromedriver',chrome_options=chrome_options)\n",
        "def CrearJSON(href, text, proceso):\n",
        "    # NAVEGAMOS POR LA PAGINA DE DETALLES DE LA LEY\n",
        "    driver.get(href)\n",
        "\n",
        "    # CREAMOS EL JSON\n",
        "    data = {}\n",
        "    K=1\n",
        "    # CLASE\n",
        "    data['proyectos_ley'] = []\n",
        "\n",
        "    # OBTENEMOS LAS FILAS DE LA TABLA EN UN ARREGLO\n",
        "    tabla = driver.find_elements_by_xpath('//html/body/form/table/tbody/tr[2]/td/table/tbody/tr')\n",
        "    arreglo=[]\n",
        "    # DATOS DEL ARCHIVO JSON\n",
        "    numero = text\n",
        "    proponente = \"\"\n",
        "    grupo_parlamentario_PartidoPolitico = []\n",
        "    grupo_parlamentario_Congresistas = []\n",
        "    titulo = \"\"\n",
        "    objeto_del_proyecto = \"\"\n",
        "    fecha_presentacion = \"\"\n",
        "    # RECORREMOS LAS FILAS DE LAS TABLAS\n",
        "\n",
        "    for tr in tabla:\n",
        "\n",
        "        # MANEJAMOS UN TRY EXCEPT, POR SI RECIBIMOS UN ELEMENTO NO DESEADO\n",
        "        try:\n",
        "            title = tr.find_element_by_xpath('.//td[1]/b/font').text\n",
        "\n",
        "            # COMPARAMOS LOS TITULOS, Y LOS ALMACENAMOS EN LAS VARIABLES\n",
        "\n",
        "            if(title == \"Proponente:\"):\n",
        "                proponente = tr.find_element_by_xpath('.//td[2]/font').text\n",
        "\n",
        "            elif(title == \"Grupo Parlamentario:\"):\n",
        "                grupo_parlamentario_PartidoPolitico = str(tr.find_element_by_xpath('.//td/font').text).split(',')\n",
        "                grupo_parlamentario_Congresistas = str(tr.find_element_by_xpath('.//td/p/font[1]').text).split(',')\n",
        "\n",
        "            elif(title == \"Título:\"):\n",
        "                titulo = tr.find_element_by_xpath('.//td/font').text\n",
        "            elif(title == \"Objeto del Proyecto de Ley:\"):\n",
        "                objeto_del_proyecto = tr.find_element_by_xpath('.//td/font').text\n",
        "            elif(title == \"Fecha Presentación:\"):\n",
        "                fecha_presentacion = tr.find_element_by_xpath('.//td[2]/font').text\n",
        "\n",
        "        except:\n",
        "            pass\n",
        "\n",
        "\n",
        "    # AGREGAMOS AL ARCHIVO JSON\n",
        "\n",
        "    data['proyectos_ley'].append({\n",
        "        'numero_ley':text,\n",
        "        'proponente': proponente,\n",
        "        'grupo_parlamentario_PartidoPolitico': grupo_parlamentario_PartidoPolitico,\n",
        "        'grupo_parlamentario_Congresistas': grupo_parlamentario_Congresistas,\n",
        "        'titulo': titulo,\n",
        "        'objeto_del_proyecto': objeto_del_proyecto,\n",
        "        'fecha_presentacion': fecha_presentacion,\n",
        "    })\n",
        "    Titulo3 = re.sub(',', ' ', titulo)\n",
        "    Titulo2=Titulo3.split(\" \")\n",
        "    #Creación archivos .txt\n",
        "    filtrado=[\"TRANSPARENCIA\",\"TRANSPARENTE\",\"TRANSPARENTA\",\"TRANSPARENTAR\"]\n",
        "    archivo1 = \"./CORPUS/2016.json\"\n",
        "    archivo2 = \"./CORPUS/2017.json\"\n",
        "    archivo3 = \"./CORPUS/2018.json\"\n",
        "    archivo4 = \"./CORPUS/2019.json\"\n",
        "    archivo5 = \"./CORPUS/2020.json\"\n",
        "    archivo = \"./CORPUS/2021.json\"\n",
        "    c1,c2,c3,c3,c4,c5=0\n",
        "    for j in Titulo2:\n",
        "      if j in filtrado:\n",
        "        # CREAMOS EL ARCHIVO JSON CON EL CODIGO DE LA LEY\n",
        "        dato1 = re.sub('/', ' ', fecha_presentacion)\n",
        "        dato2=dato1.split(\" \")\n",
        "        if dato2[2]==\"2016\":\n",
        "          archivo1 = \"./CORPUS/2016.json\"\n",
        "        elif dato2[2]==\"2017\":\n",
        "          archivo2 = \"./CORPUS/2017.json\"\n",
        "        elif dato2[2]==\"2018\":\n",
        "          archivo3 = \"./CORPUS/2018.json\"\n",
        "        elif dato2[2]==\"2019\":\n",
        "          archivo4 = \"./CORPUS/2019.json\"\n",
        "        elif dato2[2]==\"2020\":\n",
        "          archivo5 = \"./CORPUS/2020.json\"\n",
        "        elif dato2[2]==\"2021\":\n",
        "          archivo = \"./CORPUS/2021.json\"\n",
        "        # ABRIMOS EL ARCHIVO JSON, Y LO MODIFICAMOS PARA QUE ACEPTE TILDES Y Ñ\n",
        "        with open(archivo, 'w', encoding=\"utf-8\") as file:\n",
        "          json.dump(data, file, indent=4, ensure_ascii=False)\n",
        "\n",
        "#=====================================================================================================================#\n",
        "\n",
        "url = 'https://www2.congreso.gob.pe/Sicr/TraDocEstProc/CLProLey2016.nsf/Local%20Por%20Numero%20Inverso?OpenView'\n",
        "\n",
        "# NAVEGAREMOS HASTA UN ENLACE\n",
        "driver.get(url)\n",
        "\n",
        "# RECUPERAMOS LA TABLA CON LAS LEYES\n",
        "select = driver.find_element_by_xpath('//html/body/form/table/tbody/tr/td/table[2]/tbody')\n",
        "\n",
        "# RECUPERAMOS EL ENLACE A LA INFORMACION DE LA LEY\n",
        "tr = select.find_elements_by_xpath('.//tr/td/font/a')\n",
        "\n",
        "controlador = True\n",
        "\n",
        "while controlador:\n",
        "\n",
        "    driver.get(url)\n",
        "    select = driver.find_element_by_xpath('//html/body/form/table/tbody/tr/td/table[2]/tbody')\n",
        "    tr = select.find_elements_by_xpath('.//tr/td/font/a')\n",
        "\n",
        "    for i in range(0, len(tr)):\n",
        "        # RECUPERAMOS LA TABLA CON LAS LEYES, EL ENLACE A LA INFORMACION DE LA LEY\n",
        "        select = driver.find_element_by_xpath('//html/body/form/table/tbody/tr/td/table[2]/tbody')\n",
        "        tr = select.find_elements_by_xpath('.//tr/td/font/a')\n",
        "        proceso = select.find_element_by_xpath('.//tr/td[5]/font').text\n",
        "\n",
        "\n",
        "        # RECUPERAMOS LOS ATRIBUTOS HREF Y TEXTO (CODIGO)\n",
        "        href = tr[i].get_attribute('href')\n",
        "        text = tr[i].get_attribute('text')\n",
        "\n",
        "        # CREAMOS EL ARCHIVO JSON\n",
        "        CrearJSON(href, text, proceso)\n",
        "\n",
        "        # NAVEGAREMOS AL ENLACE DE ORIGEN\n",
        "        driver.get(url)\n",
        "\n",
        "    # MANTENDREMOS LA URL ANTERIOR POR PRECAUCION YA QUE AL LLEGAR AL FINAL SE ORIGINA UN BUCLE INNECESARIO\n",
        "    url_anterior = url\n",
        "\n",
        "    # OBTENEMOS EL BOTON DE SIGUIENTE\n",
        "    siguiente = driver.find_element_by_xpath('/html/body/form/table/tbody/tr/td/table[1]/tbody/tr/td[3]/a')\n",
        "\n",
        "    # VAMOS A LA SIGUIENTE PAGINA DE TABLA DE LEYES\n",
        "    siguiente.click()\n",
        "\n",
        "    # OBETENEMOS EL NUEVO LINK PARA NAVEGAR EN ÉL\n",
        "    url = driver.current_url\n",
        "\n",
        "    # VERIFICAMOS SI EL BOTON DE SIGUIENTE NOS REGRESA A LA MISMA PAGINA\n",
        "    if (url == url_anterior):\n",
        "        controlador = False"
      ],
      "execution_count": null,
      "outputs": [
        {
          "output_type": "stream",
          "name": "stderr",
          "text": [
            "/usr/local/lib/python3.7/dist-packages/ipykernel_launcher.py:12: DeprecationWarning: use options instead of chrome_options\n",
            "  if sys.path[0] == '':\n"
          ]
        },
        {
          "output_type": "error",
          "ename": "KeyboardInterrupt",
          "evalue": "ignored",
          "traceback": [
            "\u001b[0;31m---------------------------------------------------------------------------\u001b[0m",
            "\u001b[0;31mTypeError\u001b[0m                                 Traceback (most recent call last)",
            "\u001b[0;32m/usr/local/lib/python3.7/dist-packages/urllib3/connectionpool.py\u001b[0m in \u001b[0;36m_make_request\u001b[0;34m(self, conn, method, url, timeout, chunked, **httplib_request_kw)\u001b[0m\n\u001b[1;32m    376\u001b[0m             \u001b[0;32mtry\u001b[0m\u001b[0;34m:\u001b[0m  \u001b[0;31m# Python 2.7, use buffering of HTTP responses\u001b[0m\u001b[0;34m\u001b[0m\u001b[0;34m\u001b[0m\u001b[0m\n\u001b[0;32m--> 377\u001b[0;31m                 \u001b[0mhttplib_response\u001b[0m \u001b[0;34m=\u001b[0m \u001b[0mconn\u001b[0m\u001b[0;34m.\u001b[0m\u001b[0mgetresponse\u001b[0m\u001b[0;34m(\u001b[0m\u001b[0mbuffering\u001b[0m\u001b[0;34m=\u001b[0m\u001b[0;32mTrue\u001b[0m\u001b[0;34m)\u001b[0m\u001b[0;34m\u001b[0m\u001b[0;34m\u001b[0m\u001b[0m\n\u001b[0m\u001b[1;32m    378\u001b[0m             \u001b[0;32mexcept\u001b[0m \u001b[0mTypeError\u001b[0m\u001b[0;34m:\u001b[0m  \u001b[0;31m# Python 3\u001b[0m\u001b[0;34m\u001b[0m\u001b[0;34m\u001b[0m\u001b[0m\n",
            "\u001b[0;31mTypeError\u001b[0m: getresponse() got an unexpected keyword argument 'buffering'",
            "\nDuring handling of the above exception, another exception occurred:\n",
            "\u001b[0;31mKeyboardInterrupt\u001b[0m                         Traceback (most recent call last)",
            "\u001b[0;32m<ipython-input-15-a5e9763fa8a6>\u001b[0m in \u001b[0;36m<module>\u001b[0;34m()\u001b[0m\n\u001b[1;32m    129\u001b[0m \u001b[0;34m\u001b[0m\u001b[0m\n\u001b[1;32m    130\u001b[0m         \u001b[0;31m# CREAMOS EL ARCHIVO JSON\u001b[0m\u001b[0;34m\u001b[0m\u001b[0;34m\u001b[0m\u001b[0;34m\u001b[0m\u001b[0m\n\u001b[0;32m--> 131\u001b[0;31m         \u001b[0mCrearJSON\u001b[0m\u001b[0;34m(\u001b[0m\u001b[0mhref\u001b[0m\u001b[0;34m,\u001b[0m \u001b[0mtext\u001b[0m\u001b[0;34m,\u001b[0m \u001b[0mproceso\u001b[0m\u001b[0;34m)\u001b[0m\u001b[0;34m\u001b[0m\u001b[0;34m\u001b[0m\u001b[0m\n\u001b[0m\u001b[1;32m    132\u001b[0m \u001b[0;34m\u001b[0m\u001b[0m\n\u001b[1;32m    133\u001b[0m         \u001b[0;31m# NAVEGAREMOS AL ENLACE DE ORIGEN\u001b[0m\u001b[0;34m\u001b[0m\u001b[0;34m\u001b[0m\u001b[0;34m\u001b[0m\u001b[0m\n",
            "\u001b[0;32m<ipython-input-15-a5e9763fa8a6>\u001b[0m in \u001b[0;36mCrearJSON\u001b[0;34m(href, text, proceso)\u001b[0m\n\u001b[1;32m     13\u001b[0m \u001b[0;32mdef\u001b[0m \u001b[0mCrearJSON\u001b[0m\u001b[0;34m(\u001b[0m\u001b[0mhref\u001b[0m\u001b[0;34m,\u001b[0m \u001b[0mtext\u001b[0m\u001b[0;34m,\u001b[0m \u001b[0mproceso\u001b[0m\u001b[0;34m)\u001b[0m\u001b[0;34m:\u001b[0m\u001b[0;34m\u001b[0m\u001b[0;34m\u001b[0m\u001b[0m\n\u001b[1;32m     14\u001b[0m     \u001b[0;31m# NAVEGAMOS POR LA PAGINA DE DETALLES DE LA LEY\u001b[0m\u001b[0;34m\u001b[0m\u001b[0;34m\u001b[0m\u001b[0;34m\u001b[0m\u001b[0m\n\u001b[0;32m---> 15\u001b[0;31m     \u001b[0mdriver\u001b[0m\u001b[0;34m.\u001b[0m\u001b[0mget\u001b[0m\u001b[0;34m(\u001b[0m\u001b[0mhref\u001b[0m\u001b[0;34m)\u001b[0m\u001b[0;34m\u001b[0m\u001b[0;34m\u001b[0m\u001b[0m\n\u001b[0m\u001b[1;32m     16\u001b[0m \u001b[0;34m\u001b[0m\u001b[0m\n\u001b[1;32m     17\u001b[0m     \u001b[0;31m# CREAMOS EL JSON\u001b[0m\u001b[0;34m\u001b[0m\u001b[0;34m\u001b[0m\u001b[0;34m\u001b[0m\u001b[0m\n",
            "\u001b[0;32m/usr/local/lib/python3.7/dist-packages/selenium/webdriver/remote/webdriver.py\u001b[0m in \u001b[0;36mget\u001b[0;34m(self, url)\u001b[0m\n\u001b[1;32m    331\u001b[0m         \u001b[0mLoads\u001b[0m \u001b[0ma\u001b[0m \u001b[0mweb\u001b[0m \u001b[0mpage\u001b[0m \u001b[0;32min\u001b[0m \u001b[0mthe\u001b[0m \u001b[0mcurrent\u001b[0m \u001b[0mbrowser\u001b[0m \u001b[0msession\u001b[0m\u001b[0;34m.\u001b[0m\u001b[0;34m\u001b[0m\u001b[0;34m\u001b[0m\u001b[0m\n\u001b[1;32m    332\u001b[0m         \"\"\"\n\u001b[0;32m--> 333\u001b[0;31m         \u001b[0mself\u001b[0m\u001b[0;34m.\u001b[0m\u001b[0mexecute\u001b[0m\u001b[0;34m(\u001b[0m\u001b[0mCommand\u001b[0m\u001b[0;34m.\u001b[0m\u001b[0mGET\u001b[0m\u001b[0;34m,\u001b[0m \u001b[0;34m{\u001b[0m\u001b[0;34m'url'\u001b[0m\u001b[0;34m:\u001b[0m \u001b[0murl\u001b[0m\u001b[0;34m}\u001b[0m\u001b[0;34m)\u001b[0m\u001b[0;34m\u001b[0m\u001b[0;34m\u001b[0m\u001b[0m\n\u001b[0m\u001b[1;32m    334\u001b[0m \u001b[0;34m\u001b[0m\u001b[0m\n\u001b[1;32m    335\u001b[0m     \u001b[0;34m@\u001b[0m\u001b[0mproperty\u001b[0m\u001b[0;34m\u001b[0m\u001b[0;34m\u001b[0m\u001b[0m\n",
            "\u001b[0;32m/usr/local/lib/python3.7/dist-packages/selenium/webdriver/remote/webdriver.py\u001b[0m in \u001b[0;36mexecute\u001b[0;34m(self, driver_command, params)\u001b[0m\n\u001b[1;32m    317\u001b[0m \u001b[0;34m\u001b[0m\u001b[0m\n\u001b[1;32m    318\u001b[0m         \u001b[0mparams\u001b[0m \u001b[0;34m=\u001b[0m \u001b[0mself\u001b[0m\u001b[0;34m.\u001b[0m\u001b[0m_wrap_value\u001b[0m\u001b[0;34m(\u001b[0m\u001b[0mparams\u001b[0m\u001b[0;34m)\u001b[0m\u001b[0;34m\u001b[0m\u001b[0;34m\u001b[0m\u001b[0m\n\u001b[0;32m--> 319\u001b[0;31m         \u001b[0mresponse\u001b[0m \u001b[0;34m=\u001b[0m \u001b[0mself\u001b[0m\u001b[0;34m.\u001b[0m\u001b[0mcommand_executor\u001b[0m\u001b[0;34m.\u001b[0m\u001b[0mexecute\u001b[0m\u001b[0;34m(\u001b[0m\u001b[0mdriver_command\u001b[0m\u001b[0;34m,\u001b[0m \u001b[0mparams\u001b[0m\u001b[0;34m)\u001b[0m\u001b[0;34m\u001b[0m\u001b[0;34m\u001b[0m\u001b[0m\n\u001b[0m\u001b[1;32m    320\u001b[0m         \u001b[0;32mif\u001b[0m \u001b[0mresponse\u001b[0m\u001b[0;34m:\u001b[0m\u001b[0;34m\u001b[0m\u001b[0;34m\u001b[0m\u001b[0m\n\u001b[1;32m    321\u001b[0m             \u001b[0mself\u001b[0m\u001b[0;34m.\u001b[0m\u001b[0merror_handler\u001b[0m\u001b[0;34m.\u001b[0m\u001b[0mcheck_response\u001b[0m\u001b[0;34m(\u001b[0m\u001b[0mresponse\u001b[0m\u001b[0;34m)\u001b[0m\u001b[0;34m\u001b[0m\u001b[0;34m\u001b[0m\u001b[0m\n",
            "\u001b[0;32m/usr/local/lib/python3.7/dist-packages/selenium/webdriver/remote/remote_connection.py\u001b[0m in \u001b[0;36mexecute\u001b[0;34m(self, command, params)\u001b[0m\n\u001b[1;32m    372\u001b[0m         \u001b[0mdata\u001b[0m \u001b[0;34m=\u001b[0m \u001b[0mutils\u001b[0m\u001b[0;34m.\u001b[0m\u001b[0mdump_json\u001b[0m\u001b[0;34m(\u001b[0m\u001b[0mparams\u001b[0m\u001b[0;34m)\u001b[0m\u001b[0;34m\u001b[0m\u001b[0;34m\u001b[0m\u001b[0m\n\u001b[1;32m    373\u001b[0m         \u001b[0murl\u001b[0m \u001b[0;34m=\u001b[0m \u001b[0;34m'%s%s'\u001b[0m \u001b[0;34m%\u001b[0m \u001b[0;34m(\u001b[0m\u001b[0mself\u001b[0m\u001b[0;34m.\u001b[0m\u001b[0m_url\u001b[0m\u001b[0;34m,\u001b[0m \u001b[0mpath\u001b[0m\u001b[0;34m)\u001b[0m\u001b[0;34m\u001b[0m\u001b[0;34m\u001b[0m\u001b[0m\n\u001b[0;32m--> 374\u001b[0;31m         \u001b[0;32mreturn\u001b[0m \u001b[0mself\u001b[0m\u001b[0;34m.\u001b[0m\u001b[0m_request\u001b[0m\u001b[0;34m(\u001b[0m\u001b[0mcommand_info\u001b[0m\u001b[0;34m[\u001b[0m\u001b[0;36m0\u001b[0m\u001b[0;34m]\u001b[0m\u001b[0;34m,\u001b[0m \u001b[0murl\u001b[0m\u001b[0;34m,\u001b[0m \u001b[0mbody\u001b[0m\u001b[0;34m=\u001b[0m\u001b[0mdata\u001b[0m\u001b[0;34m)\u001b[0m\u001b[0;34m\u001b[0m\u001b[0;34m\u001b[0m\u001b[0m\n\u001b[0m\u001b[1;32m    375\u001b[0m \u001b[0;34m\u001b[0m\u001b[0m\n\u001b[1;32m    376\u001b[0m     \u001b[0;32mdef\u001b[0m \u001b[0m_request\u001b[0m\u001b[0;34m(\u001b[0m\u001b[0mself\u001b[0m\u001b[0;34m,\u001b[0m \u001b[0mmethod\u001b[0m\u001b[0;34m,\u001b[0m \u001b[0murl\u001b[0m\u001b[0;34m,\u001b[0m \u001b[0mbody\u001b[0m\u001b[0;34m=\u001b[0m\u001b[0;32mNone\u001b[0m\u001b[0;34m)\u001b[0m\u001b[0;34m:\u001b[0m\u001b[0;34m\u001b[0m\u001b[0;34m\u001b[0m\u001b[0m\n",
            "\u001b[0;32m/usr/local/lib/python3.7/dist-packages/selenium/webdriver/remote/remote_connection.py\u001b[0m in \u001b[0;36m_request\u001b[0;34m(self, method, url, body)\u001b[0m\n\u001b[1;32m    395\u001b[0m \u001b[0;34m\u001b[0m\u001b[0m\n\u001b[1;32m    396\u001b[0m         \u001b[0;32mif\u001b[0m \u001b[0mself\u001b[0m\u001b[0;34m.\u001b[0m\u001b[0mkeep_alive\u001b[0m\u001b[0;34m:\u001b[0m\u001b[0;34m\u001b[0m\u001b[0;34m\u001b[0m\u001b[0m\n\u001b[0;32m--> 397\u001b[0;31m             \u001b[0mresp\u001b[0m \u001b[0;34m=\u001b[0m \u001b[0mself\u001b[0m\u001b[0;34m.\u001b[0m\u001b[0m_conn\u001b[0m\u001b[0;34m.\u001b[0m\u001b[0mrequest\u001b[0m\u001b[0;34m(\u001b[0m\u001b[0mmethod\u001b[0m\u001b[0;34m,\u001b[0m \u001b[0murl\u001b[0m\u001b[0;34m,\u001b[0m \u001b[0mbody\u001b[0m\u001b[0;34m=\u001b[0m\u001b[0mbody\u001b[0m\u001b[0;34m,\u001b[0m \u001b[0mheaders\u001b[0m\u001b[0;34m=\u001b[0m\u001b[0mheaders\u001b[0m\u001b[0;34m)\u001b[0m\u001b[0;34m\u001b[0m\u001b[0;34m\u001b[0m\u001b[0m\n\u001b[0m\u001b[1;32m    398\u001b[0m \u001b[0;34m\u001b[0m\u001b[0m\n\u001b[1;32m    399\u001b[0m             \u001b[0mstatuscode\u001b[0m \u001b[0;34m=\u001b[0m \u001b[0mresp\u001b[0m\u001b[0;34m.\u001b[0m\u001b[0mstatus\u001b[0m\u001b[0;34m\u001b[0m\u001b[0;34m\u001b[0m\u001b[0m\n",
            "\u001b[0;32m/usr/local/lib/python3.7/dist-packages/urllib3/request.py\u001b[0m in \u001b[0;36mrequest\u001b[0;34m(self, method, url, fields, headers, **urlopen_kw)\u001b[0m\n\u001b[1;32m     70\u001b[0m             return self.request_encode_body(method, url, fields=fields,\n\u001b[1;32m     71\u001b[0m                                             \u001b[0mheaders\u001b[0m\u001b[0;34m=\u001b[0m\u001b[0mheaders\u001b[0m\u001b[0;34m,\u001b[0m\u001b[0;34m\u001b[0m\u001b[0;34m\u001b[0m\u001b[0m\n\u001b[0;32m---> 72\u001b[0;31m                                             **urlopen_kw)\n\u001b[0m\u001b[1;32m     73\u001b[0m \u001b[0;34m\u001b[0m\u001b[0m\n\u001b[1;32m     74\u001b[0m     def request_encode_url(self, method, url, fields=None, headers=None,\n",
            "\u001b[0;32m/usr/local/lib/python3.7/dist-packages/urllib3/request.py\u001b[0m in \u001b[0;36mrequest_encode_body\u001b[0;34m(self, method, url, fields, headers, encode_multipart, multipart_boundary, **urlopen_kw)\u001b[0m\n\u001b[1;32m    148\u001b[0m         \u001b[0mextra_kw\u001b[0m\u001b[0;34m.\u001b[0m\u001b[0mupdate\u001b[0m\u001b[0;34m(\u001b[0m\u001b[0murlopen_kw\u001b[0m\u001b[0;34m)\u001b[0m\u001b[0;34m\u001b[0m\u001b[0;34m\u001b[0m\u001b[0m\n\u001b[1;32m    149\u001b[0m \u001b[0;34m\u001b[0m\u001b[0m\n\u001b[0;32m--> 150\u001b[0;31m         \u001b[0;32mreturn\u001b[0m \u001b[0mself\u001b[0m\u001b[0;34m.\u001b[0m\u001b[0murlopen\u001b[0m\u001b[0;34m(\u001b[0m\u001b[0mmethod\u001b[0m\u001b[0;34m,\u001b[0m \u001b[0murl\u001b[0m\u001b[0;34m,\u001b[0m \u001b[0;34m**\u001b[0m\u001b[0mextra_kw\u001b[0m\u001b[0;34m)\u001b[0m\u001b[0;34m\u001b[0m\u001b[0;34m\u001b[0m\u001b[0m\n\u001b[0m",
            "\u001b[0;32m/usr/local/lib/python3.7/dist-packages/urllib3/poolmanager.py\u001b[0m in \u001b[0;36murlopen\u001b[0;34m(self, method, url, redirect, **kw)\u001b[0m\n\u001b[1;32m    322\u001b[0m             \u001b[0mresponse\u001b[0m \u001b[0;34m=\u001b[0m \u001b[0mconn\u001b[0m\u001b[0;34m.\u001b[0m\u001b[0murlopen\u001b[0m\u001b[0;34m(\u001b[0m\u001b[0mmethod\u001b[0m\u001b[0;34m,\u001b[0m \u001b[0murl\u001b[0m\u001b[0;34m,\u001b[0m \u001b[0;34m**\u001b[0m\u001b[0mkw\u001b[0m\u001b[0;34m)\u001b[0m\u001b[0;34m\u001b[0m\u001b[0;34m\u001b[0m\u001b[0m\n\u001b[1;32m    323\u001b[0m         \u001b[0;32melse\u001b[0m\u001b[0;34m:\u001b[0m\u001b[0;34m\u001b[0m\u001b[0;34m\u001b[0m\u001b[0m\n\u001b[0;32m--> 324\u001b[0;31m             \u001b[0mresponse\u001b[0m \u001b[0;34m=\u001b[0m \u001b[0mconn\u001b[0m\u001b[0;34m.\u001b[0m\u001b[0murlopen\u001b[0m\u001b[0;34m(\u001b[0m\u001b[0mmethod\u001b[0m\u001b[0;34m,\u001b[0m \u001b[0mu\u001b[0m\u001b[0;34m.\u001b[0m\u001b[0mrequest_uri\u001b[0m\u001b[0;34m,\u001b[0m \u001b[0;34m**\u001b[0m\u001b[0mkw\u001b[0m\u001b[0;34m)\u001b[0m\u001b[0;34m\u001b[0m\u001b[0;34m\u001b[0m\u001b[0m\n\u001b[0m\u001b[1;32m    325\u001b[0m \u001b[0;34m\u001b[0m\u001b[0m\n\u001b[1;32m    326\u001b[0m         \u001b[0mredirect_location\u001b[0m \u001b[0;34m=\u001b[0m \u001b[0mredirect\u001b[0m \u001b[0;32mand\u001b[0m \u001b[0mresponse\u001b[0m\u001b[0;34m.\u001b[0m\u001b[0mget_redirect_location\u001b[0m\u001b[0;34m(\u001b[0m\u001b[0;34m)\u001b[0m\u001b[0;34m\u001b[0m\u001b[0;34m\u001b[0m\u001b[0m\n",
            "\u001b[0;32m/usr/local/lib/python3.7/dist-packages/urllib3/connectionpool.py\u001b[0m in \u001b[0;36murlopen\u001b[0;34m(self, method, url, body, headers, retries, redirect, assert_same_host, timeout, pool_timeout, release_conn, chunked, body_pos, **response_kw)\u001b[0m\n\u001b[1;32m    598\u001b[0m                                                   \u001b[0mtimeout\u001b[0m\u001b[0;34m=\u001b[0m\u001b[0mtimeout_obj\u001b[0m\u001b[0;34m,\u001b[0m\u001b[0;34m\u001b[0m\u001b[0;34m\u001b[0m\u001b[0m\n\u001b[1;32m    599\u001b[0m                                                   \u001b[0mbody\u001b[0m\u001b[0;34m=\u001b[0m\u001b[0mbody\u001b[0m\u001b[0;34m,\u001b[0m \u001b[0mheaders\u001b[0m\u001b[0;34m=\u001b[0m\u001b[0mheaders\u001b[0m\u001b[0;34m,\u001b[0m\u001b[0;34m\u001b[0m\u001b[0;34m\u001b[0m\u001b[0m\n\u001b[0;32m--> 600\u001b[0;31m                                                   chunked=chunked)\n\u001b[0m\u001b[1;32m    601\u001b[0m \u001b[0;34m\u001b[0m\u001b[0m\n\u001b[1;32m    602\u001b[0m             \u001b[0;31m# If we're going to release the connection in ``finally:``, then\u001b[0m\u001b[0;34m\u001b[0m\u001b[0;34m\u001b[0m\u001b[0;34m\u001b[0m\u001b[0m\n",
            "\u001b[0;32m/usr/local/lib/python3.7/dist-packages/urllib3/connectionpool.py\u001b[0m in \u001b[0;36m_make_request\u001b[0;34m(self, conn, method, url, timeout, chunked, **httplib_request_kw)\u001b[0m\n\u001b[1;32m    378\u001b[0m             \u001b[0;32mexcept\u001b[0m \u001b[0mTypeError\u001b[0m\u001b[0;34m:\u001b[0m  \u001b[0;31m# Python 3\u001b[0m\u001b[0;34m\u001b[0m\u001b[0;34m\u001b[0m\u001b[0m\n\u001b[1;32m    379\u001b[0m                 \u001b[0;32mtry\u001b[0m\u001b[0;34m:\u001b[0m\u001b[0;34m\u001b[0m\u001b[0;34m\u001b[0m\u001b[0m\n\u001b[0;32m--> 380\u001b[0;31m                     \u001b[0mhttplib_response\u001b[0m \u001b[0;34m=\u001b[0m \u001b[0mconn\u001b[0m\u001b[0;34m.\u001b[0m\u001b[0mgetresponse\u001b[0m\u001b[0;34m(\u001b[0m\u001b[0;34m)\u001b[0m\u001b[0;34m\u001b[0m\u001b[0;34m\u001b[0m\u001b[0m\n\u001b[0m\u001b[1;32m    381\u001b[0m                 \u001b[0;32mexcept\u001b[0m \u001b[0mException\u001b[0m \u001b[0;32mas\u001b[0m \u001b[0me\u001b[0m\u001b[0;34m:\u001b[0m\u001b[0;34m\u001b[0m\u001b[0;34m\u001b[0m\u001b[0m\n\u001b[1;32m    382\u001b[0m                     \u001b[0;31m# Remove the TypeError from the exception chain in Python 3;\u001b[0m\u001b[0;34m\u001b[0m\u001b[0;34m\u001b[0m\u001b[0;34m\u001b[0m\u001b[0m\n",
            "\u001b[0;32m/usr/lib/python3.7/http/client.py\u001b[0m in \u001b[0;36mgetresponse\u001b[0;34m(self)\u001b[0m\n\u001b[1;32m   1371\u001b[0m         \u001b[0;32mtry\u001b[0m\u001b[0;34m:\u001b[0m\u001b[0;34m\u001b[0m\u001b[0;34m\u001b[0m\u001b[0m\n\u001b[1;32m   1372\u001b[0m             \u001b[0;32mtry\u001b[0m\u001b[0;34m:\u001b[0m\u001b[0;34m\u001b[0m\u001b[0;34m\u001b[0m\u001b[0m\n\u001b[0;32m-> 1373\u001b[0;31m                 \u001b[0mresponse\u001b[0m\u001b[0;34m.\u001b[0m\u001b[0mbegin\u001b[0m\u001b[0;34m(\u001b[0m\u001b[0;34m)\u001b[0m\u001b[0;34m\u001b[0m\u001b[0;34m\u001b[0m\u001b[0m\n\u001b[0m\u001b[1;32m   1374\u001b[0m             \u001b[0;32mexcept\u001b[0m \u001b[0mConnectionError\u001b[0m\u001b[0;34m:\u001b[0m\u001b[0;34m\u001b[0m\u001b[0;34m\u001b[0m\u001b[0m\n\u001b[1;32m   1375\u001b[0m                 \u001b[0mself\u001b[0m\u001b[0;34m.\u001b[0m\u001b[0mclose\u001b[0m\u001b[0;34m(\u001b[0m\u001b[0;34m)\u001b[0m\u001b[0;34m\u001b[0m\u001b[0;34m\u001b[0m\u001b[0m\n",
            "\u001b[0;32m/usr/lib/python3.7/http/client.py\u001b[0m in \u001b[0;36mbegin\u001b[0;34m(self)\u001b[0m\n\u001b[1;32m    317\u001b[0m         \u001b[0;31m# read until we get a non-100 response\u001b[0m\u001b[0;34m\u001b[0m\u001b[0;34m\u001b[0m\u001b[0;34m\u001b[0m\u001b[0m\n\u001b[1;32m    318\u001b[0m         \u001b[0;32mwhile\u001b[0m \u001b[0;32mTrue\u001b[0m\u001b[0;34m:\u001b[0m\u001b[0;34m\u001b[0m\u001b[0;34m\u001b[0m\u001b[0m\n\u001b[0;32m--> 319\u001b[0;31m             \u001b[0mversion\u001b[0m\u001b[0;34m,\u001b[0m \u001b[0mstatus\u001b[0m\u001b[0;34m,\u001b[0m \u001b[0mreason\u001b[0m \u001b[0;34m=\u001b[0m \u001b[0mself\u001b[0m\u001b[0;34m.\u001b[0m\u001b[0m_read_status\u001b[0m\u001b[0;34m(\u001b[0m\u001b[0;34m)\u001b[0m\u001b[0;34m\u001b[0m\u001b[0;34m\u001b[0m\u001b[0m\n\u001b[0m\u001b[1;32m    320\u001b[0m             \u001b[0;32mif\u001b[0m \u001b[0mstatus\u001b[0m \u001b[0;34m!=\u001b[0m \u001b[0mCONTINUE\u001b[0m\u001b[0;34m:\u001b[0m\u001b[0;34m\u001b[0m\u001b[0;34m\u001b[0m\u001b[0m\n\u001b[1;32m    321\u001b[0m                 \u001b[0;32mbreak\u001b[0m\u001b[0;34m\u001b[0m\u001b[0;34m\u001b[0m\u001b[0m\n",
            "\u001b[0;32m/usr/lib/python3.7/http/client.py\u001b[0m in \u001b[0;36m_read_status\u001b[0;34m(self)\u001b[0m\n\u001b[1;32m    278\u001b[0m \u001b[0;34m\u001b[0m\u001b[0m\n\u001b[1;32m    279\u001b[0m     \u001b[0;32mdef\u001b[0m \u001b[0m_read_status\u001b[0m\u001b[0;34m(\u001b[0m\u001b[0mself\u001b[0m\u001b[0;34m)\u001b[0m\u001b[0;34m:\u001b[0m\u001b[0;34m\u001b[0m\u001b[0;34m\u001b[0m\u001b[0m\n\u001b[0;32m--> 280\u001b[0;31m         \u001b[0mline\u001b[0m \u001b[0;34m=\u001b[0m \u001b[0mstr\u001b[0m\u001b[0;34m(\u001b[0m\u001b[0mself\u001b[0m\u001b[0;34m.\u001b[0m\u001b[0mfp\u001b[0m\u001b[0;34m.\u001b[0m\u001b[0mreadline\u001b[0m\u001b[0;34m(\u001b[0m\u001b[0m_MAXLINE\u001b[0m \u001b[0;34m+\u001b[0m \u001b[0;36m1\u001b[0m\u001b[0;34m)\u001b[0m\u001b[0;34m,\u001b[0m \u001b[0;34m\"iso-8859-1\"\u001b[0m\u001b[0;34m)\u001b[0m\u001b[0;34m\u001b[0m\u001b[0;34m\u001b[0m\u001b[0m\n\u001b[0m\u001b[1;32m    281\u001b[0m         \u001b[0;32mif\u001b[0m \u001b[0mlen\u001b[0m\u001b[0;34m(\u001b[0m\u001b[0mline\u001b[0m\u001b[0;34m)\u001b[0m \u001b[0;34m>\u001b[0m \u001b[0m_MAXLINE\u001b[0m\u001b[0;34m:\u001b[0m\u001b[0;34m\u001b[0m\u001b[0;34m\u001b[0m\u001b[0m\n\u001b[1;32m    282\u001b[0m             \u001b[0;32mraise\u001b[0m \u001b[0mLineTooLong\u001b[0m\u001b[0;34m(\u001b[0m\u001b[0;34m\"status line\"\u001b[0m\u001b[0;34m)\u001b[0m\u001b[0;34m\u001b[0m\u001b[0;34m\u001b[0m\u001b[0m\n",
            "\u001b[0;32m/usr/lib/python3.7/socket.py\u001b[0m in \u001b[0;36mreadinto\u001b[0;34m(self, b)\u001b[0m\n\u001b[1;32m    587\u001b[0m         \u001b[0;32mwhile\u001b[0m \u001b[0;32mTrue\u001b[0m\u001b[0;34m:\u001b[0m\u001b[0;34m\u001b[0m\u001b[0;34m\u001b[0m\u001b[0m\n\u001b[1;32m    588\u001b[0m             \u001b[0;32mtry\u001b[0m\u001b[0;34m:\u001b[0m\u001b[0;34m\u001b[0m\u001b[0;34m\u001b[0m\u001b[0m\n\u001b[0;32m--> 589\u001b[0;31m                 \u001b[0;32mreturn\u001b[0m \u001b[0mself\u001b[0m\u001b[0;34m.\u001b[0m\u001b[0m_sock\u001b[0m\u001b[0;34m.\u001b[0m\u001b[0mrecv_into\u001b[0m\u001b[0;34m(\u001b[0m\u001b[0mb\u001b[0m\u001b[0;34m)\u001b[0m\u001b[0;34m\u001b[0m\u001b[0;34m\u001b[0m\u001b[0m\n\u001b[0m\u001b[1;32m    590\u001b[0m             \u001b[0;32mexcept\u001b[0m \u001b[0mtimeout\u001b[0m\u001b[0;34m:\u001b[0m\u001b[0;34m\u001b[0m\u001b[0;34m\u001b[0m\u001b[0m\n\u001b[1;32m    591\u001b[0m                 \u001b[0mself\u001b[0m\u001b[0;34m.\u001b[0m\u001b[0m_timeout_occurred\u001b[0m \u001b[0;34m=\u001b[0m \u001b[0;32mTrue\u001b[0m\u001b[0;34m\u001b[0m\u001b[0;34m\u001b[0m\u001b[0m\n",
            "\u001b[0;31mKeyboardInterrupt\u001b[0m: "
          ]
        }
      ]
    }
  ]
}